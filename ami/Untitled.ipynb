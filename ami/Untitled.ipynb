{
 "cells": [
  {
   "cell_type": "code",
   "execution_count": null,
   "metadata": {},
   "outputs": [],
   "source": [
    "import boto3"
   ]
  },
  {
   "cell_type": "code",
   "execution_count": null,
   "metadata": {},
   "outputs": [],
   "source": [
    "ec2 = boto3.resource('ec2')"
   ]
  },
  {
   "cell_type": "code",
   "execution_count": null,
   "metadata": {},
   "outputs": [],
   "source": [
    "rds = boto3.client('rds')"
   ]
  },
  {
   "cell_type": "code",
   "execution_count": null,
   "metadata": {},
   "outputs": [],
   "source": []
  },
  {
   "cell_type": "code",
   "execution_count": null,
   "metadata": {},
   "outputs": [],
   "source": [
    "response = rds.describe_db_instances()"
   ]
  },
  {
   "cell_type": "code",
   "execution_count": null,
   "metadata": {},
   "outputs": [],
   "source": [
    "type(response)"
   ]
  },
  {
   "cell_type": "code",
   "execution_count": null,
   "metadata": {},
   "outputs": [],
   "source": [
    "response = rds.describe_db_instances()"
   ]
  },
  {
   "cell_type": "code",
   "execution_count": null,
   "metadata": {},
   "outputs": [],
   "source": [
    "response"
   ]
  },
  {
   "cell_type": "code",
   "execution_count": null,
   "metadata": {},
   "outputs": [],
   "source": [
    "response('DBInstances' :  ['Endpoint'])\n"
   ]
  },
  {
   "cell_type": "code",
   "execution_count": null,
   "metadata": {},
   "outputs": [],
   "source": [
    "import boto, boto.ec2\n",
    "\n",
    "if _name_ == '_main_':\n",
    "    region = 'ap-south-1'\n",
    "    mumbai = boto.ec2.connect_to_region(region)\n",
    "    reservations = mumbai.get_all_instances()\n",
    "    for r in reservations:\n",
    "        for i in r.instances:\n",
    "            if i.state=='running':\n",
    "                tags = i.tags\n",
    "                name = tags.get('name') or '(unnamed)'\n",
    "                print('{0}: {1}'.format(name, i.ip_address))\n",
    "                "
   ]
  },
  {
   "cell_type": "markdown",
   "metadata": {},
   "source": [
    "mumbai"
   ]
  },
  {
   "cell_type": "code",
   "execution_count": null,
   "metadata": {},
   "outputs": [],
   "source": [
    "ec2.instances.filter(\n",
    "    Filters=[{'Name': 'instance-state-name', 'Values': ['running']}])"
   ]
  },
  {
   "cell_type": "code",
   "execution_count": null,
   "metadata": {},
   "outputs": [],
   "source": [
    "instances = ec2.instances.filter(\n",
    "    Filters=[{'Name': 'instance-state-name', 'Values': ['running']}])\n",
    "for instance in instances:\n",
    "    print(instance.id, instance.instance_type)"
   ]
  },
  {
   "cell_type": "code",
   "execution_count": 3,
   "metadata": {},
   "outputs": [],
   "source": [
    "import boto3\n",
    "\n",
    "ec2=boto3.client('ec2')\n",
    "instance_information = ec2.describe_instances()\n",
    "\n",
    "for reservation in instance_information['Reservations']:\n",
    "    for instance in reservation['Instances']:\n",
    "       idn = instance['PublicDnsName']\n",
    "    "
   ]
  },
  {
   "cell_type": "code",
   "execution_count": 4,
   "metadata": {},
   "outputs": [
    {
     "data": {
      "text/plain": [
       "''"
      ]
     },
     "execution_count": 4,
     "metadata": {},
     "output_type": "execute_result"
    }
   ],
   "source": [
    "idn"
   ]
  },
  {
   "cell_type": "code",
   "execution_count": null,
   "metadata": {},
   "outputs": [],
   "source": [
    "['Reservations'][0]['Instances'][0]['PublicDnsName']"
   ]
  },
  {
   "cell_type": "code",
   "execution_count": null,
   "metadata": {},
   "outputs": [],
   "source": [
    "from collections import defaultdict\n",
    "\n",
    "import boto3\n",
    "\n",
    "\"\"\"\n",
    "A tool for retrieving basic information from the running EC2 instances.\n",
    "\"\"\"\n",
    "\n",
    "# Connect to EC2\n",
    "ec2 = boto3.resource('ec2')\n",
    "\n",
    "# Get information for all running instances\n",
    "running_instances = ec2.instances.filter(Filters=[{\n",
    "    'Name': 'instance-state-name',\n",
    "    'Values': ['running']}])\n",
    "\n",
    "ec2info = defaultdict()\n",
    "for instance in running_instances:\n",
    "    for tag in instance.tags:\n",
    "        if 'Name'in tag['Key']:\n",
    "            name = tag['Value']\n",
    "    # Add instance info to a dictionary         \n",
    "    ec2info[instance.id] = {\n",
    "        'Name': name,\n",
    "        'Type': instance.instance_type,\n",
    "        'State': instance.state['Name'],\n",
    "        'Private IP': instance.private_ip_address,\n",
    "        'Public IP': instance.public_ip_address,\n",
    "        'Launch Time': instance.launch_time\n",
    "        }\n",
    "\n",
    "attributes = ['Name', 'Type', 'State', 'Private IP', 'Public IP', 'Launch Time']\n",
    "for instance_id, instance in ec2info.items():\n",
    "    for key in attributes:\n",
    "        print(\"{0}: {1}\".format(key, instance[key]))\n",
    "    print(\"------\")"
   ]
  },
  {
   "cell_type": "code",
   "execution_count": null,
   "metadata": {},
   "outputs": [],
   "source": [
    "import boto3\n",
    "\n",
    "db_instance = 'db-instance-identifier'\n",
    "\n",
    "def lambda_handler(event, context):\n",
    "    source = boto3.client('rds', region_name=region)\n",
    "    try:\n",
    "        instances = source.describe_db_instances(DBInstanceIdentifier=db_instance)\n",
    "        rds_host = instances[0].endpoint.address\n",
    "    except Exception as e:\n",
    "        raise e"
   ]
  },
  {
   "cell_type": "code",
   "execution_count": null,
   "metadata": {},
   "outputs": [],
   "source": [
    "rds_host"
   ]
  },
  {
   "cell_type": "code",
   "execution_count": null,
   "metadata": {},
   "outputs": [],
   "source": [
    "source = boto3.client('rds', region_name=region)\n",
    "    instances = source.describe_db_instances(DBInstanceIdentifier=db_instance)\n",
    "    rds_host = instances.get('DBInstances')[0].get('Endpoint').get('Address')"
   ]
  },
  {
   "cell_type": "code",
   "execution_count": 36,
   "metadata": {},
   "outputs": [],
   "source": [
    "import boto3\n",
    "\n",
    "ec2=boto3.client('ec2')\n",
    "instance_information = ec2.describe_instances()\n",
    "\n",
    "for reservation in instance_information['Reservations']:\n",
    "    for instance in reservation['Instances']:\n",
    "        idn = instance['PublicDnsName']\n",
    "client = boto3.client('rds')\n",
    "response = client.describe_db_instances()\n",
    "x=',';\n",
    "for r in response['DBInstances']:\n",
    "        db_instance_name = r['Endpoint']\n",
    "        endpoint = db_instance_name['Address']"
   ]
  },
  {
   "cell_type": "code",
   "execution_count": 34,
   "metadata": {},
   "outputs": [
    {
     "data": {
      "text/plain": [
       "'terraform-20201219085417154800000001.cakiexhhy9th.ap-south-1.rds.amazonaws.com'"
      ]
     },
     "execution_count": 34,
     "metadata": {},
     "output_type": "execute_result"
    }
   ],
   "source": [
    "endpoint"
   ]
  },
  {
   "cell_type": "code",
   "execution_count": 38,
   "metadata": {},
   "outputs": [],
   "source": [
    "Hostname = endpoint"
   ]
  },
  {
   "cell_type": "code",
   "execution_count": 39,
   "metadata": {},
   "outputs": [
    {
     "data": {
      "text/plain": [
       "'terraform-20201219085417154800000001.cakiexhhy9th.ap-south-1.rds.amazonaws.com'"
      ]
     },
     "execution_count": 39,
     "metadata": {},
     "output_type": "execute_result"
    }
   ],
   "source": [
    "Hostname"
   ]
  },
  {
   "cell_type": "code",
   "execution_count": 31,
   "metadata": {},
   "outputs": [],
   "source": [
    "import boto3\n",
    "client = boto3.client('rds')\n",
    "response = client.describe_db_instances()\n",
    "x=',';\n",
    "for r in response['DBInstances']:\n",
    "        db_instance_name = r['Endpoint']\n",
    "        endpoint = db_instance_name['Address']\n",
    "        \n"
   ]
  },
  {
   "cell_type": "code",
   "execution_count": 30,
   "metadata": {},
   "outputs": [
    {
     "data": {
      "text/plain": [
       "'terraform-20201219085417154800000001.cakiexhhy9th.ap-south-1.rds.amazonaws.com'"
      ]
     },
     "execution_count": 30,
     "metadata": {},
     "output_type": "execute_result"
    }
   ],
   "source": [
    "end"
   ]
  },
  {
   "cell_type": "code",
   "execution_count": 32,
   "metadata": {},
   "outputs": [
    {
     "data": {
      "text/plain": [
       "'terraform-20201219085417154800000001.cakiexhhy9th.ap-south-1.rds.amazonaws.com'"
      ]
     },
     "execution_count": 32,
     "metadata": {},
     "output_type": "execute_result"
    }
   ],
   "source": [
    "endpoint"
   ]
  },
  {
   "cell_type": "code",
   "execution_count": null,
   "metadata": {},
   "outputs": [],
   "source": []
  }
 ],
 "metadata": {
  "kernelspec": {
   "display_name": "Python 3",
   "language": "python",
   "name": "python3"
  },
  "language_info": {
   "codemirror_mode": {
    "name": "ipython",
    "version": 3
   },
   "file_extension": ".py",
   "mimetype": "text/x-python",
   "name": "python",
   "nbconvert_exporter": "python",
   "pygments_lexer": "ipython3",
   "version": "3.7.3"
  }
 },
 "nbformat": 4,
 "nbformat_minor": 2
}
