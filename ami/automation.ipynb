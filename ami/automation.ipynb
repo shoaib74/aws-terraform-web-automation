{
 "cells": [
  {
   "cell_type": "code",
   "execution_count": 2,
   "metadata": {},
   "outputs": [
    {
     "ename": "KeyError",
     "evalue": "'Endpoint'",
     "output_type": "error",
     "traceback": [
      "\u001b[1;31m---------------------------------------------------------------------------\u001b[0m",
      "\u001b[1;31mKeyError\u001b[0m                                  Traceback (most recent call last)",
      "\u001b[1;32m<ipython-input-2-759e7e3f6caa>\u001b[0m in \u001b[0;36m<module>\u001b[1;34m\u001b[0m\n\u001b[0;32m     14\u001b[0m \u001b[0mx\u001b[0m\u001b[1;33m=\u001b[0m\u001b[1;34m','\u001b[0m\u001b[1;33m;\u001b[0m\u001b[1;33m\u001b[0m\u001b[1;33m\u001b[0m\u001b[0m\n\u001b[0;32m     15\u001b[0m \u001b[1;32mfor\u001b[0m \u001b[0mr\u001b[0m \u001b[1;32min\u001b[0m \u001b[0mresponse\u001b[0m\u001b[1;33m[\u001b[0m\u001b[1;34m'DBInstances'\u001b[0m\u001b[1;33m]\u001b[0m\u001b[1;33m:\u001b[0m\u001b[1;33m\u001b[0m\u001b[1;33m\u001b[0m\u001b[0m\n\u001b[1;32m---> 16\u001b[1;33m         \u001b[0mdb_instance_name\u001b[0m \u001b[1;33m=\u001b[0m \u001b[0mr\u001b[0m\u001b[1;33m[\u001b[0m\u001b[1;34m'Endpoint'\u001b[0m\u001b[1;33m]\u001b[0m\u001b[1;33m\u001b[0m\u001b[1;33m\u001b[0m\u001b[0m\n\u001b[0m\u001b[0;32m     17\u001b[0m         \u001b[0mendpoint\u001b[0m \u001b[1;33m=\u001b[0m \u001b[0mdb_instance_name\u001b[0m\u001b[1;33m[\u001b[0m\u001b[1;34m'Address'\u001b[0m\u001b[1;33m]\u001b[0m\u001b[1;33m\u001b[0m\u001b[1;33m\u001b[0m\u001b[0m\n\u001b[0;32m     18\u001b[0m \u001b[1;33m\u001b[0m\u001b[0m\n",
      "\u001b[1;31mKeyError\u001b[0m: 'Endpoint'"
     ]
    }
   ],
   "source": [
    "from selenium import webdriver\n",
    "#from terraformpy import Provider, Resource\n",
    "import time\n",
    "import boto3\n",
    "\n",
    "ec2=boto3.client('ec2')\n",
    "instance_information = ec2.describe_instances()\n",
    "\n",
    "for reservation in instance_information['Reservations']:\n",
    "    for instance in reservation['Instances']:\n",
    "        url = instance['PublicDnsName']\n",
    "client = boto3.client('rds')\n",
    "response = client.describe_db_instances()\n",
    "x=',';\n",
    "for r in response['DBInstances']:\n",
    "        db_instance_name = r['Endpoint']\n",
    "        endpoint = db_instance_name['Address']    \n",
    "\n"
   ]
  },
  {
   "cell_type": "code",
   "execution_count": null,
   "metadata": {},
   "outputs": [],
   "source": [
    "url\n",
    "urls = \"http://\" + url\n",
    "urls"
   ]
  },
  {
   "cell_type": "code",
   "execution_count": null,
   "metadata": {},
   "outputs": [],
   "source": [
    "web = webdriver.Chrome()\n",
    "web.get(urls)\n",
    "\n",
    "time.sleep(2)\n",
    "\n",
    "Submit = web.find_element_by_xpath('/html/body/div/div/div[1]/form/div[2]/div/input')\n",
    "Submit.click()\n",
    "\n",
    "Submit = web.find_element_by_xpath('/html/body/div/div/div[1]/form/div/div[2]/input')\n",
    "Submit.click()\n",
    "\n",
    "\n",
    "hname = web.find_element_by_xpath('//*[@id=\"input-db-hostname\"]')\n",
    "hname.clear()\n",
    "hname.send_keys(endpoint)\n",
    "\n",
    "\n",
    "Password = \"shoaib12\"\n",
    "passwd = web.find_element_by_xpath('//*[@id=\"input-db-password\"]')\n",
    "passwd.send_keys(Password)\n",
    "\n",
    "Database = \"mydb\"\n",
    "db = web.find_element_by_xpath('//*[@id=\"input-db-database\"]')\n",
    "db.send_keys(Database)\n",
    "\n",
    "\n",
    "\n",
    "Password = \"shoaib12\"\n",
    "passw = web.find_element_by_xpath('//*[@id=\"input-password\"]')\n",
    "passw.send_keys(Password)\n",
    "\n",
    "EMail = \"skhn7474@gmail.com\"\n",
    "mail = web.find_element_by_xpath('//*[@id=\"input-email\"]')\n",
    "mail.send_keys(EMail)\n",
    "\n",
    "\n",
    "Submit = web.find_element_by_xpath('/html/body/div/div/div[1]/form/div/div[2]/input')\n",
    "Submit.click()\n",
    "\n",
    "Submit = web.find_element_by_xpath('/html/body/div/div[2]/div/div[2]/a')\n",
    "Submit.click()\n",
    "\n",
    "Username = \"admin\"\n",
    "uname = web.find_element_by_xpath('//*[@id=\"input-username\"]')\n",
    "uname.send_keys(Username)\n",
    "\n",
    "\n",
    "Password = \"shoaib12\"\n",
    "passw = web.find_element_by_xpath('//*[@id=\"input-password\"]')\n",
    "passw.send_keys(Password)\n",
    "\n",
    "\n",
    "Submit = web.find_element_by_xpath('//*[@id=\"content\"]/div/div/div/div/div[2]/form/div[3]/button/i')\n",
    "Submit.click()\n",
    "\n",
    "cross = web.find_element_by_xpath('//*[@id=\"modal-security\"]/div/div/div[1]/button')\n",
    "cross.click()\n"
   ]
  },
  {
   "cell_type": "code",
   "execution_count": null,
   "metadata": {},
   "outputs": [],
   "source": []
  },
  {
   "cell_type": "code",
   "execution_count": null,
   "metadata": {},
   "outputs": [],
   "source": []
  },
  {
   "cell_type": "code",
   "execution_count": null,
   "metadata": {},
   "outputs": [],
   "source": []
  }
 ],
 "metadata": {
  "kernelspec": {
   "display_name": "Python 3",
   "language": "python",
   "name": "python3"
  },
  "language_info": {
   "codemirror_mode": {
    "name": "ipython",
    "version": 3
   },
   "file_extension": ".py",
   "mimetype": "text/x-python",
   "name": "python",
   "nbconvert_exporter": "python",
   "pygments_lexer": "ipython3",
   "version": "3.7.3"
  }
 },
 "nbformat": 4,
 "nbformat_minor": 2
}
